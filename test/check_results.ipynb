{
 "cells": [
  {
   "cell_type": "code",
   "execution_count": 1,
   "metadata": {},
   "outputs": [
    {
     "name": "stdout",
     "output_type": "stream",
     "text": [
      "Seed: 42\n",
      "Mean Episode rewards 986.673433827586\n",
      "==================================================\n",
      "Seed: 123\n",
      "Mean Episode rewards 986.673433827586\n",
      "==================================================\n",
      "Seed: 456\n",
      "Mean Episode rewards 986.673433827586\n",
      "==================================================\n",
      "Seed: 789\n",
      "Mean Episode rewards 986.673433827586\n",
      "==================================================\n",
      "Seed: 101112\n",
      "Mean Episode rewards 986.673433827586\n",
      "==================================================\n"
     ]
    },
    {
     "name": "stderr",
     "output_type": "stream",
     "text": [
      "/tmp/ipykernel_49499/1939922215.py:5: FutureWarning: You are using `torch.load` with `weights_only=False` (the current default value), which uses the default pickle module implicitly. It is possible to construct malicious pickle data which will execute arbitrary code during unpickling (See https://github.com/pytorch/pytorch/blob/main/SECURITY.md#untrusted-models for more details). In a future release, the default value for `weights_only` will be flipped to `True`. This limits the functions that could be executed during unpickling. Arbitrary objects will no longer be allowed to be loaded via this mode unless they are explicitly allowlisted by the user via `torch.serialization.add_safe_globals`. We recommend you start setting `weights_only=True` for any use case where you don't have full control of the loaded file. Please open an issue on GitHub for any issues related to this experimental feature.\n",
      "  results = torch.load(\"/home/thatblueboy/DOP/evaluation_results_no_dreamer.pt\")\n"
     ]
    }
   ],
   "source": [
    "import torch\n",
    "import statistics\n",
    "\n",
    "# Load the saved evaluation results\n",
    "results = torch.load(\"/home/thatblueboy/DOP/evaluation_results_no_dreamer.pt\")\n",
    "\n",
    "# Print the results in a readable format\n",
    "for seed, rewards, lengths in zip(results[\"seed\"], results[\"episode_rewards\"], results[\"episode_lengths\"]):\n",
    "    print(f\"Seed: {seed}\")\n",
    "    # print(f\"Episode Rewards: {rewards}\")\n",
    "    # print(f\"Episode Lengths: {lengths}\")\n",
    "    print(\"Mean Episode rewards\", statistics.mean(rewards))\n",
    "    print(\"=\" * 50)\n"
   ]
  },
  {
   "cell_type": "code",
   "execution_count": 2,
   "metadata": {},
   "outputs": [
    {
     "name": "stdout",
     "output_type": "stream",
     "text": [
      "Seed: 42\n",
      "Mean Episode rewards 924.9448768882665\n",
      "==================================================\n",
      "Seed: 123\n",
      "Mean Episode rewards 856.828249674451\n",
      "==================================================\n",
      "Seed: 456\n",
      "Mean Episode rewards 864.8664027406595\n",
      "==================================================\n",
      "Seed: 789\n",
      "Mean Episode rewards 980.544592007835\n",
      "==================================================\n",
      "Seed: 101112\n",
      "Mean Episode rewards 1421.5910279685495\n",
      "==================================================\n"
     ]
    },
    {
     "name": "stderr",
     "output_type": "stream",
     "text": [
      "/tmp/ipykernel_49499/1284509830.py:5: FutureWarning: You are using `torch.load` with `weights_only=False` (the current default value), which uses the default pickle module implicitly. It is possible to construct malicious pickle data which will execute arbitrary code during unpickling (See https://github.com/pytorch/pytorch/blob/main/SECURITY.md#untrusted-models for more details). In a future release, the default value for `weights_only` will be flipped to `True`. This limits the functions that could be executed during unpickling. Arbitrary objects will no longer be allowed to be loaded via this mode unless they are explicitly allowlisted by the user via `torch.serialization.add_safe_globals`. We recommend you start setting `weights_only=True` for any use case where you don't have full control of the loaded file. Please open an issue on GitHub for any issues related to this experimental feature.\n",
      "  results = torch.load(\"/home/thatblueboy/DOP/evaluation_results.pt\")\n"
     ]
    }
   ],
   "source": [
    "import torch\n",
    "import statistics\n",
    "\n",
    "# Load the saved evaluation results\n",
    "results = torch.load(\"/home/thatblueboy/DOP/evaluation_results.pt\")\n",
    "\n",
    "# Print the results in a readable format\n",
    "for seed, rewards, lengths in zip(results[\"seed\"], results[\"episode_rewards\"], results[\"episode_lengths\"]):\n",
    "    print(f\"Seed: {seed}\")\n",
    "    # print(f\"Episode Rewards: {rewards}\")\n",
    "    # print(f\"Episode Lengths: {lengths}\")\n",
    "    print(\"Mean Episode rewards\", statistics.mean(rewards))\n",
    "    print(\"=\" * 50)"
   ]
  }
 ],
 "metadata": {
  "kernelspec": {
   "display_name": ".venv",
   "language": "python",
   "name": "python3"
  },
  "language_info": {
   "codemirror_mode": {
    "name": "ipython",
    "version": 3
   },
   "file_extension": ".py",
   "mimetype": "text/x-python",
   "name": "python",
   "nbconvert_exporter": "python",
   "pygments_lexer": "ipython3",
   "version": "3.9.5"
  }
 },
 "nbformat": 4,
 "nbformat_minor": 2
}
